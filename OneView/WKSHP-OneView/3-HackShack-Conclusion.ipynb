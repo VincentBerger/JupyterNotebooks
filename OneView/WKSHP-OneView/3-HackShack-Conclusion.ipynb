{
 "cells": [
  {
   "cell_type": "markdown",
   "metadata": {},
   "source": [
    "![enter image description here](https://developer.hpe.com/img/hpe-dev-logo-mark-anim.svg?1580730675069 \"HPE DEV Hack Shack\")\n",
    "\n",
    "# Thank you for visiting the Hack Shack\n",
    "\n",
    "Powered by [HPE DEV Team](hpedev.io)\n",
    "\n",
    "# Final Step\n",
    "Please Take a moment to fill out our [survey](https://forms.office.com/Pages/ResponsePage.aspx?id=YSBbEGm2MUuSrCTTBNGV3KHzFdd987lBoQATWJq45DdUOEZJTFBCUEJDQktPVkcyREVBRDFJOEVMOS4u)\n",
    "\n",
    "Please use 'File -> Log Out' in the menu to terminate your session\n",
    "\n",
    "# Thank You\n",
    "![ThankYou](Pictures/grommet.jpg)"
   ]
  }
 ],
 "metadata": {
  "kernelspec": {
   "display_name": "Bash",
   "language": "bash",
   "name": "bash"
  },
  "language_info": {
   "codemirror_mode": "shell",
   "file_extension": ".sh",
   "mimetype": "text/x-sh",
   "name": "bash"
  }
 },
 "nbformat": 4,
 "nbformat_minor": 4
}
