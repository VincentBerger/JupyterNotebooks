{
 "cells": [
  {
   "cell_type": "markdown",
   "metadata": {},
   "source": [
    "![enter image description here](https://developer.hpe.com/img/hpe-dev-logo-mark-anim.svg?1580730675069 \"HPE DEV Hack Shack\")\n",
    "\n",
    "# Thank you for visiting the Hack Shack\n",
    "\n",
    "Powered by [HPE DEV Team](hpedev.io)\n",
    "\n",
    "# Conclusion\n",
    "\n",
    "During this workshop, we have covered the basics of the HPE OneView API. You have been able to test it through simple Powershell and Python code snippets. \n",
    "\n",
    "Congratulations! \n",
    "\n",
    "# Final Steps\n",
    "Please Take a moment to fill out our [survey](https://forms.office.com/Pages/ResponsePage.aspx?id=YSBbEGm2MUuSrCTTBNGV3KHzFdd987lBoQATWJq45DdUOEZJTFBCUEJDQktPVkcyREVBRDFJOEVMOS4u)\n",
    "\n",
    "Join the HPE DEV Community by [signing up for the monthly HPE DEV Newsletter](https://developer.hpe.com/event/aspire-us-2020?listid=11646955) and participate in our raffle!\n",
    "\n",
    "Join the HPE DEV Monthly - Scan the QR code below\n",
    "\n",
    "![QRCode](Pictures/QRCode-HPEDEV.png)\n",
    "\n",
    "And please make sure you use 'File -> Log Out' in the menu to terminate your workshop session\n",
    "\n",
    "# Thank You\n",
    "![ThankYou](Pictures/grommet.jpg)"
   ]
  },
  {
   "cell_type": "code",
   "execution_count": null,
   "metadata": {},
   "outputs": [],
   "source": []
  }
 ],
 "metadata": {
  "kernelspec": {
   "display_name": "Bash",
   "language": "bash",
   "name": "bash"
  },
  "language_info": {
   "codemirror_mode": "shell",
   "file_extension": ".sh",
   "mimetype": "text/x-sh",
   "name": "bash"
  }
 },
 "nbformat": 4,
 "nbformat_minor": 4
}
