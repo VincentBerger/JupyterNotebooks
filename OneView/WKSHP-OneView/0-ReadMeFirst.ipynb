{
 "cells": [
  {
   "cell_type": "markdown",
   "metadata": {},
   "source": [
    "![enter image description here](https://developer.hpe.com/img/hpe-dev-logo-mark-anim.svg?1580730675069 \"HPE DEV Hack Shack\")\n",
    "\n",
    "# Welcome to the Hack Shack\n",
    "\n",
    "Powered by [HPE DEV Team](hpedev.io)\n",
    "\n",
    "### Speaker : Vincent Berger\n",
    "\n",
    "# OneView API Basics \n",
    "![](Pictures/OneViewLogo.png)\n",
    "\n",
    "For this OneView interactive demo-lab, we will look at both PowerShell and Python code working with the OneView API, as well as some raw API calls using curl. Beginners and experts are welcome.\n",
    "\n",
    "\n",
    "\n",
    "## Introduction to the HPE OneView API\n",
    "REST (Representational State Transfer) is a style of API that uses basic Create, Read, Update and Delete (CRUD) operations that are performed on resources using HTTP POST, GET, PUT, PATCH and DELETE requests. To learn more about general REST concepts, see\n",
    "http://en.wikipedia.org/wiki/Representational_state_transfer  \n",
    "HPE OneView has a resource-oriented architecture that provides a uniform REST interface. Every resource has one Uniform Resource Identifier (URI) and represents a physical device or logical construct, and may be manipulated using REST APIs. To view the list of resources, see the [HPE OneView API Reference](https://techlibrary.hpe.com/docs/enterprise/servers/oneview5.0/cicf-api/en/index.html#about)  \n",
    "\n",
    "# Lab Flow\n",
    "HackShack workshops are delivered through a central point that allows a portable, dynamic version of the lab guides. We are now leveraging a jupyterhub server on which all the different labs guides will be stored in a Notebook format (*.ipynb). These Notebooks are accessible from the internet for the event.\n",
    "\n",
    "Besides, the notebooks can be downloaded on to your own laptop for further usage or edition. In order to use  them, you will need to install the jupyter notebook application available [here](https://jupyter.org/install).\n",
    "Beginners guide available [here](https://jupyter-notebook-beginner-guide.readthedocs.io/en/latest/what_is_jupyter.html)\n",
    "\n",
    "Please now listen to the instructor guidelines on how to use this notebook and follow the different steps\n",
    "\n",
    "Happy labs ! :-)\n",
    "\n",
    "# Lab 1: First steps with the API and PowerShell\n",
    "In this section, we will use PowerShell to cover the basics of the HPE OneView API\n",
    "\n",
    "* [Lab 1](1-OVAPIPowerShell.ipynb)\n",
    "\n",
    "# Lab 2: Using Python and the OneView API\n",
    "We will switch to Python to do what we previously did with PowerShell\n",
    "\n",
    "* [Lab 2](2-OVAPIPython.ipynb)\n",
    "\n",
    "# Take a chance to win a Canakit Raspberry Pi\n",
    "[Sign up for the monthly HPE DEV Newsletter to participate in our raffle!](https://developer.hpe.com/event/aspire-us-2020?listid=11646955)\n",
    "\n",
    "# Join the Community\n",
    "![QRCode](Pictures/QRCode-HPEDEV.png)\n",
    "\n",
    "# Thank You!\n",
    "![grommet.JPG](Pictures/grommet.jpg)\n"
   ]
  },
  {
   "cell_type": "code",
   "execution_count": null,
   "metadata": {},
   "outputs": [],
   "source": []
  }
 ],
 "metadata": {
  "kernelspec": {
   "display_name": "PowerShell",
   "language": "powershell",
   "name": "powershell"
  },
  "language_info": {
   "codemirror_mode": "shell",
   "file_extension": ".ps1",
   "mimetype": "text/x-sh",
   "name": "powershell"
  }
 },
 "nbformat": 4,
 "nbformat_minor": 4
}
