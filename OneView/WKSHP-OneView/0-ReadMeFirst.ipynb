{
 "cells": [
  {
   "cell_type": "markdown",
   "metadata": {},
   "source": [
    "![enter image description here](https://developer.hpe.com/img/hpe-dev-logo-mark-anim.svg?1580730675069 \"HPE DEV Hack Shack\")\n",
    "\n",
    "# Welcome to the Hack Shack\n",
    "\n",
    "Powered by [HPE DEV Team](hpedev.io)\n",
    "\n",
    "### Speaker : Vincent Berger\n",
    "\n",
    "# Introduction to HPE OneView API Basics \n",
    "![](Pictures/OneViewLogo.png)\n",
    "\n",
    "In this HPE OneView Workshop, we will cover the basics of the HPE OneView REST API. HPE OneView has a resource-oriented architecture that provides a uniform REST interface. Every resource has one Uniform Resource Identifier (URI) and represents a physical device or logical construct, and may be manipulated using REST APIs. To view the list of resources, see the [HPE OneView API Reference](https://techlibrary.hpe.com/docs/enterprise/servers/oneview5.0/cicf-api/en/index.html#about) \n",
    "\n",
    "For this HPE OneView interactive workshop, we will look at both PowerShell and Python code working with the HPE OneView API, as well as some raw API calls using curl. Beginners and experts are welcome.\n",
    "\n",
    "Note: REST (Representational State Transfer) is a style of API that uses basic Create, Read, Update and Delete (CRUD) operations that are performed on resources using HTTP POST, GET, PUT, PATCH and DELETE requests. To learn more about general REST concepts, see\n",
    "http://en.wikipedia.org/wiki/Representational_state_transfer    \n",
    "\n",
    "# Lab Flow\n",
    "HackShack workshops are delivered through a central point that allows a portable, dynamic version of the lab guides. We are now leveraging a JupyterHub server on which all the different lab guides will be stored in a Notebook format (*.ipynb). These Notebooks are accessible from the internet for the event.\n",
    "\n",
    "# Handouts\n",
    "You can freely copy the Jupyter Notebooks, including their output, in order to practice back at your office at your own pace, leveraging a local installation of Jupyter Notebook on your laptop. - You can install the Jupyter Notebook application from [here](https://jupyter.org/install). A Beginners guide available [here](https://jupyter-notebook-beginner-guide.readthedocs.io/en/latest/what_is_jupyter.html)\n",
    "\n",
    "Please  listen now to the instructor guidelines on how to use Jupyter and follow along as the different steps are covered.\n",
    "\n",
    "Enjoy the labs ! :-)\n",
    "\n",
    "# Lab 1: First steps with the API and PowerShell\n",
    "In this section, we will use PowerShell to cover the basics of the HPE OneView API\n",
    "\n",
    "* [Lab 1](1-OVAPIPowerShell.ipynb)\n",
    "\n",
    "# Lab 2: Using Python and the HPE OneView API\n",
    "We will switch to Python to do what we previously did with PowerShell\n",
    "\n",
    "* [Lab 2](2-OVAPIPython.ipynb)\n",
    "\n",
    "# Earn a chance to win a Canakit Raspberry Pi\n",
    "Join the HPE DEV Community by [signing up for the monthly HPE DEV Newsletter](https://developer.hpe.com/event/aspire-us-2020?listid=11646955) and participate in our raffle!\n",
    "\n",
    "# Join the HPE DEV Monthly - Scan the QR code below\n",
    "![QRCode](Pictures/QRCode-HPEDEV.png)\n",
    "\n",
    "# Thank You!\n",
    "![grommet.JPG](Pictures/grommet.jpg)\n"
   ]
  },
  {
   "cell_type": "code",
   "execution_count": null,
   "metadata": {},
   "outputs": [],
   "source": []
  }
 ],
 "metadata": {
  "kernelspec": {
   "display_name": "PowerShell",
   "language": "powershell",
   "name": "powershell"
  },
  "language_info": {
   "codemirror_mode": "shell",
   "file_extension": ".ps1",
   "mimetype": "text/x-sh",
   "name": "powershell"
  }
 },
 "nbformat": 4,
 "nbformat_minor": 4
}