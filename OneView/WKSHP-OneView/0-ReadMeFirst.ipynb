{
 "cells": [
  {
   "cell_type": "markdown",
   "metadata": {},
   "source": [
    "![enter image description here](https://developer.hpe.com/img/hpe-dev-logo-mark-anim.svg?1580730675069 \"HPE DEV Hack Shack\")\n",
    "\n",
    "# Hack Shack\n",
    "\n",
    "Powered by [HPE DEV Team](hpedev.io)\n",
    "\n",
    "### Speaker : Vincent Berger\n",
    "\n",
    "# OneView API Basics\n",
    "\n",
    "For this OneView interactive demo-lab, you'll be able to use your own laptop or the provided station and perform your own tests. We will look at both PowerShell and Python code working with the OneView API, as well as some raw API calls using curl. Beginners and experts are welcome.\n",
    "\n",
    "\n",
    "\n",
    "## Introduction to the HPE OneView API\n",
    "REST (Representational State Transfer) is a style of API that uses basic Create, Read, Update and Delete (CRUD) operations that are performed on resources using HTTP POST, GET, PUT, PATCH and DELETE requests. To learn more about general REST concepts, see\n",
    "http://en.wikipedia.org/wiki/Representational_state_transfer  \n",
    "HPE OneView has a resource-oriented architecture that provides a uniform REST interface. Every resource has one Uniform Resource Identifier (URI) and represents a physical device or logical construct, and may be manipulated using REST APIs. To view the list of resources, see the [HPE OneView API Reference](https://techlibrary.hpe.com/docs/enterprise/servers/oneview5.0/cicf-api/en/index.html#about)  \n",
    "\n",
    "![](Pictures/OneViewLogo.png)"
   ]
  }
 ],
 "metadata": {
  "kernelspec": {
   "display_name": "PowerShell",
   "language": "powershell",
   "name": "powershell"
  },
  "language_info": {
   "codemirror_mode": "shell",
   "file_extension": ".ps1",
   "mimetype": "text/x-sh",
   "name": "powershell"
  }
 },
 "nbformat": 4,
 "nbformat_minor": 4
}