{
 "cells": [
  {
   "cell_type": "markdown",
   "metadata": {},
   "source": [
    "# HPE OneView API Workshop\n",
    "## Introduction to the HPE OneView API\n",
    "To facilitate the usage of the API from various programming languages and to avoid creating code to build HTTP requests and all their attributes (headers, body), HPE offers libraries for several languages that take care of REST details allowing you to concentrate on the resources you want to manage. In this workshop we are going to use PowerShell. Version 5.0 (and later) of the HPE OneView PowerShell library is compatible with [PowerShell Core](https://github.com/PowerShell/PowerShell). It can work on different platforms, including Windows of course, but also on macOS and Linux.  \n",
    "\n",
    "To start, we first need to load our HPE OneView PowerShell library "
   ]
  },
  {
   "cell_type": "code",
   "execution_count": null,
   "metadata": {},
   "outputs": [],
   "source": [
    "Import-Module HPOneView.520"
   ]
  },
  {
   "cell_type": "markdown",
   "metadata": {},
   "source": [
    "You can get a list of all the commands provided by the library:"
   ]
  },
  {
   "cell_type": "code",
   "execution_count": null,
   "metadata": {},
   "outputs": [],
   "source": [
    "Get-Command -Module HPOneView.520"
   ]
  },
  {
   "cell_type": "markdown",
   "metadata": {},
   "source": [
    "Let's define the IP address of the HPE OneView appliance we want to connect to."
   ]
  },
  {
   "cell_type": "code",
   "execution_count": null,
   "metadata": {},
   "outputs": [],
   "source": [
    "$appliance = \"$$OVIP\""
   ]
  },
  {
   "cell_type": "markdown",
   "metadata": {},
   "source": [
    "Now you can connect to the HPE OneView appliance"
   ]
  },
  {
   "cell_type": "code",
   "execution_count": null,
   "metadata": {},
   "outputs": [],
   "source": [
    "Connect-HPOVMgmt -hostname $appliance -username Administrator -password password"
   ]
  },
  {
   "cell_type": "markdown",
   "metadata": {},
   "source": [
    "If the login is successful, you will get an authenticated session with your HPE OneView appliance. You will find the key to that session in a string stored in the following variable."
   ]
  },
  {
   "cell_type": "code",
   "execution_count": null,
   "metadata": {},
   "outputs": [],
   "source": [
    "$token = $global:ConnectedSessions[0].SessionID\n",
    "$token"
   ]
  },
  {
   "cell_type": "markdown",
   "metadata": {},
   "source": [
    "You can use this token to access the REST API without using the PowerShell library. For example, you can use curl to make a simple HTTP request, passing the session ID in a HTTP header named auth"
   ]
  },
  {
   "cell_type": "code",
   "execution_count": null,
   "metadata": {},
   "outputs": [],
   "source": [
    "curl -k \"https://$appliance/rest/network-sets\" -H \"auth: $token\" | jq ."
   ]
  },
  {
   "cell_type": "markdown",
   "metadata": {},
   "source": [
    "Try the same request without the auth header, and see what error you get"
   ]
  },
  {
   "cell_type": "code",
   "execution_count": null,
   "metadata": {},
   "outputs": [],
   "source": [
    "curl -k \"https://$appliance/rest/network-sets\" | jq ."
   ]
  },
  {
   "cell_type": "markdown",
   "metadata": {},
   "source": [
    "This same request can be done with a PowerShell cmdlet from the library. This will take care of the URL for the request (https://.../rest/network-sets), the auth header and other headers like X-API-Version. If you want, you can add the `-Verbose` option to see a lot more details about the command, including HTTP URLs and the headers of the request and response"
   ]
  },
  {
   "cell_type": "code",
   "execution_count": null,
   "metadata": {},
   "outputs": [],
   "source": [
    "Get-HPOVNetworkSet"
   ]
  },
  {
   "cell_type": "markdown",
   "metadata": {},
   "source": [
    "Let's look at the impact of another important header: X-API-Version. This header defines the version of the API endpoint your code was designed for. Each version of HPE OneView has a corresponding API version, and no they are not the same. The mapping can be viewed in the first page of the online help for HPE OneView entitled About: https://techlibrary.hpe.com/docs/enterprise/servers/oneview5.2/cicf-api/en/index.html#about  \n",
    "\n",
    "For backwards compatibility, every version of HPE OneView accepts requests for its own API version and several older versions. The list of supported and unsupported API versions can also be found in that help page above. It is important to understand that without an X-API-Version header in the request, HPE OneView will assume you want the oldest version of the API it supports. \n",
    "\n",
    "Let's consider an example with a feature that was added relatively recently in HPE OneView, hypervisor cluster profiles. What happens if you try a GET on that resource without an X-API-Version header ?"
   ]
  },
  {
   "cell_type": "code",
   "execution_count": null,
   "metadata": {},
   "outputs": [],
   "source": [
    "curl -k \"https://$appliance/rest/hypervisor-cluster-profiles\" -H \"auth: $token\" | jq ."
   ]
  },
  {
   "cell_type": "markdown",
   "metadata": {},
   "source": [
    "You will get a 404 error, the well-known page not found. That is simply because in older versions of the API, this resource did not exist. Now repeat the same request with an X-API-Version header"
   ]
  },
  {
   "cell_type": "code",
   "execution_count": null,
   "metadata": {},
   "outputs": [],
   "source": [
    "curl -k \"https://$appliance/rest/hypervisor-cluster-profiles\" -H \"auth: $token\" -H \"X-API-Version: 1600\" | jq ."
   ]
  },
  {
   "cell_type": "markdown",
   "metadata": {},
   "source": [
    "Omitting the X-API-Version header is one of the most common mistakes users make when using the HPE OneView API without one of the helper libraries (like the PowerShell one we are using in this workshop). This can cause some head scratching because it may still work in some cases and not work or cause weird behavior in other cases. In the case of the ethernet-networks example above, it will work because this resource has existed since the earliest version of HPE OneView."
   ]
  },
  {
   "cell_type": "markdown",
   "metadata": {},
   "source": [
    "## Provision a new server"
   ]
  },
  {
   "cell_type": "markdown",
   "metadata": {},
   "source": [
    "Our goal is to provision a new server to augment the capacity of a business application. We can look at the servers managed by HPE OneView and see which ones would be available"
   ]
  },
  {
   "cell_type": "code",
   "execution_count": null,
   "metadata": {},
   "outputs": [],
   "source": [
    "Get-HPOVServer"
   ]
  },
  {
   "cell_type": "markdown",
   "metadata": {},
   "source": [
    "This default output does not tell us if a server has a profile assigned to it, but it doesn't show all the data. Let's look at what properties are available in a server hardware resource"
   ]
  },
  {
   "cell_type": "code",
   "execution_count": null,
   "metadata": {},
   "outputs": [],
   "source": [
    "Get-HPOVServer | Get-Member"
   ]
  },
  {
   "cell_type": "markdown",
   "metadata": {},
   "source": [
    "We see serverProfileUri. This is the property that tells us if a server hardware has a profile assigned to it. We want a list of servers that do not have a server profile assigned, i.e. where the serverProfileUri is empty"
   ]
  },
  {
   "cell_type": "code",
   "execution_count": null,
   "metadata": {},
   "outputs": [],
   "source": [
    "Get-HPOVServer | Where-Object {!$_.serverProfileUri}"
   ]
  },
  {
   "cell_type": "markdown",
   "metadata": {},
   "source": [
    "For those of you more experienced in using HPE OneView PowerShell, there is an easier way to perform the above command, which is by using the -NoProfile option of Get-HPOVServer..."
   ]
  },
  {
   "cell_type": "code",
   "execution_count": null,
   "metadata": {},
   "outputs": [],
   "source": [
    "Get-HPOVServer -NoProfile"
   ]
  },
  {
   "cell_type": "markdown",
   "metadata": {},
   "source": [
    "It is fair to assume that any of these servers is available. We want to create a profile to assign to one of these servers. We have server profile templates that were created outside of this workshop."
   ]
  },
  {
   "cell_type": "code",
   "execution_count": null,
   "metadata": {},
   "outputs": [],
   "source": [
    "Get-HPOVServerProfileTemplate"
   ]
  },
  {
   "cell_type": "markdown",
   "metadata": {},
   "source": [
    "You are going to use the server named $$SRVNAME which is linked to Server Hardware Type $$SHT. Now create a server profile based on server profile template $$SPTNAME"
   ]
  },
  {
   "cell_type": "code",
   "execution_count": null,
   "metadata": {},
   "outputs": [],
   "source": [
    "$server = Get-HPOVServer -Name \"$$SRVNAME\"\n",
    "$spt = Get-HPOVServerProfileTemplate -name \"$$SPTNAME\"\n",
    "New-HPOVServerProfile -Name \"Profile Student $$I\" -ServerProfileTemplate $spt -server $server"
   ]
  },
  {
   "cell_type": "markdown",
   "metadata": {},
   "source": [
    "Let's look in detail at the server profile that was just created. Most of its properties come from the Server Profile Template"
   ]
  },
  {
   "cell_type": "code",
   "execution_count": null,
   "metadata": {},
   "outputs": [],
   "source": [
    "get-hpovserverprofile -name \"Profile Student $$I\" | select *"
   ]
  },
  {
   "cell_type": "markdown",
   "metadata": {},
   "source": [
    "As always in PowerShell, piping is very useful. Let's determine which servers are available (no profile assigned) for our given Server Hardware Type $$SHT"
   ]
  },
  {
   "cell_type": "code",
   "execution_count": null,
   "metadata": {},
   "outputs": [],
   "source": [
    "get-hpovserverhardwaretype -name \"$$SHT\" | get-hpovserver -noprofile"
   ]
  },
  {
   "cell_type": "markdown",
   "metadata": {},
   "source": [
    "The PowerShell HPE OneView library provides cmdlets for just about everything in the HPE OneView REST API. In those rare cases not covered by a native cmdlet, you can use the more generic function Send-HPOVRequest and pass it the URI you want /rest/...  \n",
    "Do this to get the list of active sessions on the appliance. The REST call is documented [here](https://techlibrary.hpe.com/docs/enterprise/servers/oneview5.0/cicf-api/en/index.html#rest/active-user-sessions)"
   ]
  },
  {
   "cell_type": "code",
   "execution_count": null,
   "metadata": {},
   "outputs": [],
   "source": [
    "Send-HPOVRequest -uri \"/rest/active-user-sessions\""
   ]
  },
  {
   "cell_type": "markdown",
   "metadata": {},
   "source": [
    "To clean up, delete the server profile we created previously. This will allow you to re-create it for the same server in the Python notebook we are about to look at."
   ]
  },
  {
   "cell_type": "code",
   "execution_count": null,
   "metadata": {},
   "outputs": [],
   "source": [
    "Remove-HPOVServerProfile -Name \"Profile Student $$I\" -Confirm:$false"
   ]
  },
  {
   "cell_type": "markdown",
   "metadata": {},
   "source": [
    "Finally, when you're done with your work with the HPE OneView API, it is good practice to disconnect from the appliance to clean up the session."
   ]
  },
  {
   "cell_type": "code",
   "execution_count": null,
   "metadata": {},
   "outputs": [],
   "source": [
    "Disconnect-HPOVMgmt"
   ]
  }
 ],
 "metadata": {
  "kernelspec": {
   "display_name": "PowerShell",
   "language": "powershell",
   "name": "powershell"
  },
  "language_info": {
   "codemirror_mode": "shell",
   "file_extension": ".ps1",
   "mimetype": "text/x-sh",
   "name": "powershell"
  }
 },
 "nbformat": 4,
 "nbformat_minor": 4
}
